{
 "cells": [
  {
   "cell_type": "markdown",
   "metadata": {},
   "source": [
    "## Deliverable 3. Create a Travel Itinerary Map."
   ]
  },
  {
   "cell_type": "code",
   "execution_count": 6,
   "metadata": {},
   "outputs": [],
   "source": [
    "# Dependencies and Setup\n",
    "import pandas as pd\n",
    "import requests\n",
    "import gmaps\n",
    "\n",
    "# Import API key\n",
    "from config import g_key\n",
    "\n",
    "# Configure gmaps\n",
    "gmaps.configure(api_key=g_key)"
   ]
  },
  {
   "cell_type": "code",
   "execution_count": 7,
   "metadata": {},
   "outputs": [
    {
     "output_type": "execute_result",
     "data": {
      "text/plain": [
       "   City_ID         City Country  Max Temp Current Description      Lat  \\\n",
       "0        4      Katubao      PH     86.00       broken clouds   5.8892   \n",
       "1        6       Avarua      CK     78.80       broken clouds -21.2078   \n",
       "2       10  Port Alfred      ZA     73.99    scattered clouds -33.5906   \n",
       "3       14         Auki      SB     83.32          light rain  -8.7676   \n",
       "4       15       Faanui      PF     82.45     overcast clouds -16.4833   \n",
       "\n",
       "        Lng                          Hotel Name  \n",
       "0  124.8294                         IML Ecopark  \n",
       "1 -159.7750                        Paradise Inn  \n",
       "2   26.8910                  The Halyards Hotel  \n",
       "3  160.7034                          Auki Motel  \n",
       "4 -151.7500  Bora-Bora Pearl Beach Resort & Spa  "
      ],
      "text/html": "<div>\n<style scoped>\n    .dataframe tbody tr th:only-of-type {\n        vertical-align: middle;\n    }\n\n    .dataframe tbody tr th {\n        vertical-align: top;\n    }\n\n    .dataframe thead th {\n        text-align: right;\n    }\n</style>\n<table border=\"1\" class=\"dataframe\">\n  <thead>\n    <tr style=\"text-align: right;\">\n      <th></th>\n      <th>City_ID</th>\n      <th>City</th>\n      <th>Country</th>\n      <th>Max Temp</th>\n      <th>Current Description</th>\n      <th>Lat</th>\n      <th>Lng</th>\n      <th>Hotel Name</th>\n    </tr>\n  </thead>\n  <tbody>\n    <tr>\n      <th>0</th>\n      <td>4</td>\n      <td>Katubao</td>\n      <td>PH</td>\n      <td>86.00</td>\n      <td>broken clouds</td>\n      <td>5.8892</td>\n      <td>124.8294</td>\n      <td>IML Ecopark</td>\n    </tr>\n    <tr>\n      <th>1</th>\n      <td>6</td>\n      <td>Avarua</td>\n      <td>CK</td>\n      <td>78.80</td>\n      <td>broken clouds</td>\n      <td>-21.2078</td>\n      <td>-159.7750</td>\n      <td>Paradise Inn</td>\n    </tr>\n    <tr>\n      <th>2</th>\n      <td>10</td>\n      <td>Port Alfred</td>\n      <td>ZA</td>\n      <td>73.99</td>\n      <td>scattered clouds</td>\n      <td>-33.5906</td>\n      <td>26.8910</td>\n      <td>The Halyards Hotel</td>\n    </tr>\n    <tr>\n      <th>3</th>\n      <td>14</td>\n      <td>Auki</td>\n      <td>SB</td>\n      <td>83.32</td>\n      <td>light rain</td>\n      <td>-8.7676</td>\n      <td>160.7034</td>\n      <td>Auki Motel</td>\n    </tr>\n    <tr>\n      <th>4</th>\n      <td>15</td>\n      <td>Faanui</td>\n      <td>PF</td>\n      <td>82.45</td>\n      <td>overcast clouds</td>\n      <td>-16.4833</td>\n      <td>-151.7500</td>\n      <td>Bora-Bora Pearl Beach Resort &amp; Spa</td>\n    </tr>\n  </tbody>\n</table>\n</div>"
     },
     "metadata": {},
     "execution_count": 7
    }
   ],
   "source": [
    "# 1. Read the WeatherPy_vacation.csv into a DataFrame.\n",
    "vacation_df = pd.read_csv(\"Vacation_Search/WeatherPy_vacation.csv\")\n",
    "clean_hotel_df = pd.read_csv(\"Vacation_Search/WeatherPy_vacation.csv\")\n",
    "vacation_df.head()"
   ]
  },
  {
   "cell_type": "code",
   "execution_count": 35,
   "metadata": {},
   "outputs": [],
   "source": [
    "clean_hotel_df\n",
    "# 2. Using the template add the city name, the country code, the weather description and maximum temperature for the city.\n",
    "info_box_template = \"\"\"\n",
    "<dt>City</dt><dd>{City}</dd>\n",
    "<dt>Country</dt><dd>{Country}</dd>\n",
    "<dt>Max Temp</dt><dd>{Max Temp} °F</dd>\n",
    "<dt>Weather</dt><dd>{Current Description}</dd>\n",
    "\"\"\"\n",
    "\n",
    "# 3a. Get the data from each row and add it to the formatting template and store the data in a list.\n",
    "hotel_info = [info_box_template.format(**row) for index, row in clean_hotel_df.iterrows()]\n",
    "\n",
    "# 3b. Get the latitude and longitude from each row and store in a new DataFrame.\n",
    "locations = clean_hotel_df[[\"Lat\", \"Lng\"]]"
   ]
  },
  {
   "cell_type": "code",
   "execution_count": 36,
   "metadata": {},
   "outputs": [
    {
     "output_type": "display_data",
     "data": {
      "text/plain": "Figure(layout=FigureLayout(height='420px'))",
      "application/vnd.jupyter.widget-view+json": {
       "version_major": 2,
       "version_minor": 0,
       "model_id": "09d6ffe0e2e64c4dbfdc956e64bffa14"
      }
     },
     "metadata": {}
    }
   ],
   "source": [
    "fig = gmaps.figure(center=(30.0, 31.0), zoom_level=1.5)\n",
    "# 4a. Add a marker layer for each city to the map.\n",
    "marker_layer = gmaps.marker_layer(locations, info_box_content=hotel_info)\n",
    "fig.add_layer(marker_layer)\n",
    "# 4b. Display the figure\n",
    "\n",
    "fig"
   ]
  },
  {
   "cell_type": "code",
   "execution_count": 12,
   "metadata": {},
   "outputs": [],
   "source": [
    "# From the map above pick 4 cities and create a vacation itinerary route to travel between the four cities. \n",
    "# 5. Create DataFrames for each city by filtering the 'vacation_df' using the loc method. \n",
    "# Hint: The starting and ending city should be the same city.\n",
    "\n",
    "vacation_start = vacation_df.loc[vacation_df[\"City\"]==\"Hermanus\"]\n",
    "vacation_end = vacation_df.loc[vacation_df[\"City\"]==\"Hermanus\"]\n",
    "vacation_stop1 = vacation_df.loc[vacation_df[\"City\"]==\"Bredasdorp\"]\n",
    "vacation_stop2 = vacation_df.loc[vacation_df[\"City\"]==\"Port Alfred\"]\n",
    "vacation_stop3 = vacation_df.loc[vacation_df[\"City\"]==\"Graaff-Reinet\"]"
   ]
  },
  {
   "cell_type": "code",
   "execution_count": 25,
   "metadata": {},
   "outputs": [
    {
     "output_type": "execute_result",
     "data": {
      "text/plain": [
       "(-34.4187, 19.2345)"
      ]
     },
     "metadata": {},
     "execution_count": 25
    }
   ],
   "source": [
    "(vacation_start.to_numpy()[0][5] ,vacation_start.to_numpy()[0][6]) \n"
   ]
  },
  {
   "cell_type": "code",
   "execution_count": 26,
   "metadata": {},
   "outputs": [],
   "source": [
    "# 6. Get the latitude-longitude pairs as tuples from each city DataFrame using the to_numpy function and list indexing.\n",
    "start = (vacation_start.to_numpy()[0][5] ,vacation_start.to_numpy()[0][6]) \n",
    "end = (vacation_end.to_numpy()[0][5] ,vacation_end.to_numpy()[0][6]) \n",
    "stop1 = (vacation_stop1.to_numpy()[0][5] ,vacation_stop1.to_numpy()[0][6]) \n",
    "stop2 = (vacation_stop2.to_numpy()[0][5] ,vacation_stop2.to_numpy()[0][6]) \n",
    "stop3 = (vacation_stop3.to_numpy()[0][5] ,vacation_stop3.to_numpy()[0][6]) "
   ]
  },
  {
   "cell_type": "code",
   "execution_count": 33,
   "metadata": {
    "scrolled": true
   },
   "outputs": [
    {
     "output_type": "display_data",
     "data": {
      "text/plain": "Figure(layout=FigureLayout(height='420px'))",
      "application/vnd.jupyter.widget-view+json": {
       "version_major": 2,
       "version_minor": 0,
       "model_id": "0945dfa56a2341f7858c8cb11d252b51"
      }
     },
     "metadata": {}
    }
   ],
   "source": [
    "# 7. Create a direction layer map using the start and end latitude-longitude pairs,\n",
    "# and stop1, stop2, and stop3 as the waypoints. The travel_mode should be \"DRIVING\", \"BICYCLING\", or \"WALKING\".\n",
    "fig = gmaps.figure()\n",
    "start_2_end= gmaps.directions_layer(\n",
    "        start, end, waypoints=[stop1,stop2,stop3],\n",
    "        travel_mode=\"DRIVING\")\n",
    "fig.add_layer(start_2_end)\n",
    "fig\n"
   ]
  },
  {
   "cell_type": "code",
   "execution_count": 40,
   "metadata": {},
   "outputs": [
    {
     "output_type": "execute_result",
     "data": {
      "text/plain": [
       "   City_ID           City Country  Max Temp Current Description      Lat  \\\n",
       "0       18       Hermanus      ZA     70.00           clear sky -34.4187   \n",
       "1       49     Bredasdorp      ZA     70.00           clear sky -34.5322   \n",
       "2       10    Port Alfred      ZA     73.99    scattered clouds -33.5906   \n",
       "3      256  Graaff-Reinet      ZA     70.00           clear sky -32.2522   \n",
       "\n",
       "       Lng                  Hotel Name  \n",
       "0  19.2345  Misty Waves Boutique Hotel  \n",
       "1  20.0403    Bredasdorp Country Manor  \n",
       "2  26.8910          The Halyards Hotel  \n",
       "3  24.5308             Rietjiesbos B&B  "
      ],
      "text/html": "<div>\n<style scoped>\n    .dataframe tbody tr th:only-of-type {\n        vertical-align: middle;\n    }\n\n    .dataframe tbody tr th {\n        vertical-align: top;\n    }\n\n    .dataframe thead th {\n        text-align: right;\n    }\n</style>\n<table border=\"1\" class=\"dataframe\">\n  <thead>\n    <tr style=\"text-align: right;\">\n      <th></th>\n      <th>City_ID</th>\n      <th>City</th>\n      <th>Country</th>\n      <th>Max Temp</th>\n      <th>Current Description</th>\n      <th>Lat</th>\n      <th>Lng</th>\n      <th>Hotel Name</th>\n    </tr>\n  </thead>\n  <tbody>\n    <tr>\n      <th>0</th>\n      <td>18</td>\n      <td>Hermanus</td>\n      <td>ZA</td>\n      <td>70.00</td>\n      <td>clear sky</td>\n      <td>-34.4187</td>\n      <td>19.2345</td>\n      <td>Misty Waves Boutique Hotel</td>\n    </tr>\n    <tr>\n      <th>1</th>\n      <td>49</td>\n      <td>Bredasdorp</td>\n      <td>ZA</td>\n      <td>70.00</td>\n      <td>clear sky</td>\n      <td>-34.5322</td>\n      <td>20.0403</td>\n      <td>Bredasdorp Country Manor</td>\n    </tr>\n    <tr>\n      <th>2</th>\n      <td>10</td>\n      <td>Port Alfred</td>\n      <td>ZA</td>\n      <td>73.99</td>\n      <td>scattered clouds</td>\n      <td>-33.5906</td>\n      <td>26.8910</td>\n      <td>The Halyards Hotel</td>\n    </tr>\n    <tr>\n      <th>3</th>\n      <td>256</td>\n      <td>Graaff-Reinet</td>\n      <td>ZA</td>\n      <td>70.00</td>\n      <td>clear sky</td>\n      <td>-32.2522</td>\n      <td>24.5308</td>\n      <td>Rietjiesbos B&amp;B</td>\n    </tr>\n  </tbody>\n</table>\n</div>"
     },
     "metadata": {},
     "execution_count": 40
    }
   ],
   "source": [
    "# 8. To create a marker layer map between the four cities.\n",
    "#  Combine the four city DataFrames into one DataFrame using the concat() function.\n",
    "itinerary_df = pd.concat([vacation_start,vacation_stop1,vacation_stop2,vacation_stop3],ignore_index=True)\n",
    "itinerary_df"
   ]
  },
  {
   "cell_type": "code",
   "execution_count": 41,
   "metadata": {},
   "outputs": [],
   "source": [
    "# 9 Using the template add city name, the country code, the weather description and maximum temperature for the city. \n",
    "info_box_template = \"\"\"\n",
    "<dt>City</dt><dd>{City}</dd>\n",
    "<dt>Country</dt><dd>{Country}</dd>\n",
    "<dt>Max Temp</dt><dd>{Max Temp} °F</dd>\n",
    "<dt>Weather</dt><dd>{Current Description}</dd>\n",
    "\"\"\"\n",
    "\n",
    "# 10a Get the data from each row and add it to the formatting template and store the data in a list.\n",
    "hotel_info = [info_box_template.format(**row) for index, row in itinerary_df.iterrows()]\n",
    "\n",
    "# 10b. Get the latitude and longitude from each row and store in a new DataFrame.\n",
    "locations = itinerary_df[[\"Lat\", \"Lng\"]]"
   ]
  },
  {
   "cell_type": "code",
   "execution_count": 43,
   "metadata": {},
   "outputs": [
    {
     "output_type": "display_data",
     "data": {
      "text/plain": "Figure(layout=FigureLayout(height='420px'))",
      "application/vnd.jupyter.widget-view+json": {
       "version_major": 2,
       "version_minor": 0,
       "model_id": "2344612bb5954ebbbe608311e896d720"
      }
     },
     "metadata": {}
    }
   ],
   "source": [
    "fig = gmaps.figure()\n",
    "# 11a. Add a marker layer for each city to the map.\n",
    "marker_layer = gmaps.marker_layer(locations, info_box_content=hotel_info)\n",
    "fig.add_layer(marker_layer)\n",
    "# 11b. Display the figure\n",
    "fig"
   ]
  },
  {
   "cell_type": "code",
   "execution_count": null,
   "metadata": {},
   "outputs": [],
   "source": []
  }
 ],
 "metadata": {
  "kernelspec": {
   "name": "python3",
   "display_name": "Python 3.8.3 64-bit (conda)",
   "metadata": {
    "interpreter": {
     "hash": "b3ba2566441a7c06988d0923437866b63cedc61552a5af99d1f4fb67d367b25f"
    }
   }
  },
  "language_info": {
   "codemirror_mode": {
    "name": "ipython",
    "version": 3
   },
   "file_extension": ".py",
   "mimetype": "text/x-python",
   "name": "python",
   "nbconvert_exporter": "python",
   "pygments_lexer": "ipython3",
   "version": "3.8.3-final"
  },
  "latex_envs": {
   "LaTeX_envs_menu_present": true,
   "autoclose": false,
   "autocomplete": true,
   "bibliofile": "biblio.bib",
   "cite_by": "apalike",
   "current_citInitial": 1,
   "eqLabelWithNumbers": true,
   "eqNumInitial": 1,
   "hotkeys": {
    "equation": "Ctrl-E",
    "itemize": "Ctrl-I"
   },
   "labels_anchors": false,
   "latex_user_defs": false,
   "report_style_numbering": false,
   "user_envs_cfg": false
  }
 },
 "nbformat": 4,
 "nbformat_minor": 2
}