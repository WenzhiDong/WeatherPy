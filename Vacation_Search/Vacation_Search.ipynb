{
 "cells": [
  {
   "cell_type": "markdown",
   "metadata": {},
   "source": [
    "## Deliverable 2. Create a Customer Travel Destinations Map."
   ]
  },
  {
   "cell_type": "code",
   "execution_count": 1,
   "metadata": {},
   "outputs": [],
   "source": [
    "# Dependencies and Setup\n",
    "import pandas as pd\n",
    "import requests\n",
    "import gmaps\n",
    "\n",
    "# Import API key\n",
    "from config import g_key\n",
    "\n",
    "# Configure gmaps API key\n",
    "gmaps.configure(api_key=g_key)"
   ]
  },
  {
   "cell_type": "code",
   "execution_count": 2,
   "metadata": {},
   "outputs": [
    {
     "output_type": "execute_result",
     "data": {
      "text/plain": [
       "   Unnamed: 0          City      Lat       Lng  Max Temp  Humidity  \\\n",
       "0           0   Sargatskoye  55.6101   73.4972     11.08        95   \n",
       "1           1      Oussouye  12.4850  -16.5469     68.43        22   \n",
       "2           2  Punta Arenas -53.1500  -70.9167     48.20        71   \n",
       "3           3  Saint George  37.1041 -113.5841     39.20        75   \n",
       "4           4       Katubao   5.8892  124.8294     86.00        58   \n",
       "\n",
       "   Cloudiness  Wind Speed Country Current Description  \n",
       "0          99       13.49      RU     overcast clouds  \n",
       "1          52        7.43      SN       broken clouds  \n",
       "2           0       20.71      CL           clear sky  \n",
       "3           1        3.06      US           clear sky  \n",
       "4          75       10.36      PH       broken clouds  "
      ],
      "text/html": "<div>\n<style scoped>\n    .dataframe tbody tr th:only-of-type {\n        vertical-align: middle;\n    }\n\n    .dataframe tbody tr th {\n        vertical-align: top;\n    }\n\n    .dataframe thead th {\n        text-align: right;\n    }\n</style>\n<table border=\"1\" class=\"dataframe\">\n  <thead>\n    <tr style=\"text-align: right;\">\n      <th></th>\n      <th>Unnamed: 0</th>\n      <th>City</th>\n      <th>Lat</th>\n      <th>Lng</th>\n      <th>Max Temp</th>\n      <th>Humidity</th>\n      <th>Cloudiness</th>\n      <th>Wind Speed</th>\n      <th>Country</th>\n      <th>Current Description</th>\n    </tr>\n  </thead>\n  <tbody>\n    <tr>\n      <th>0</th>\n      <td>0</td>\n      <td>Sargatskoye</td>\n      <td>55.6101</td>\n      <td>73.4972</td>\n      <td>11.08</td>\n      <td>95</td>\n      <td>99</td>\n      <td>13.49</td>\n      <td>RU</td>\n      <td>overcast clouds</td>\n    </tr>\n    <tr>\n      <th>1</th>\n      <td>1</td>\n      <td>Oussouye</td>\n      <td>12.4850</td>\n      <td>-16.5469</td>\n      <td>68.43</td>\n      <td>22</td>\n      <td>52</td>\n      <td>7.43</td>\n      <td>SN</td>\n      <td>broken clouds</td>\n    </tr>\n    <tr>\n      <th>2</th>\n      <td>2</td>\n      <td>Punta Arenas</td>\n      <td>-53.1500</td>\n      <td>-70.9167</td>\n      <td>48.20</td>\n      <td>71</td>\n      <td>0</td>\n      <td>20.71</td>\n      <td>CL</td>\n      <td>clear sky</td>\n    </tr>\n    <tr>\n      <th>3</th>\n      <td>3</td>\n      <td>Saint George</td>\n      <td>37.1041</td>\n      <td>-113.5841</td>\n      <td>39.20</td>\n      <td>75</td>\n      <td>1</td>\n      <td>3.06</td>\n      <td>US</td>\n      <td>clear sky</td>\n    </tr>\n    <tr>\n      <th>4</th>\n      <td>4</td>\n      <td>Katubao</td>\n      <td>5.8892</td>\n      <td>124.8294</td>\n      <td>86.00</td>\n      <td>58</td>\n      <td>75</td>\n      <td>10.36</td>\n      <td>PH</td>\n      <td>broken clouds</td>\n    </tr>\n  </tbody>\n</table>\n</div>"
     },
     "metadata": {},
     "execution_count": 2
    }
   ],
   "source": [
    "# 1. Import the WeatherPy_database.csv file. \n",
    "city_data_df = pd.read_csv(\"Weather_Database\\WeatherPy_Database.csv\")\n",
    "city_data_df.head()"
   ]
  },
  {
   "cell_type": "code",
   "execution_count": 3,
   "metadata": {},
   "outputs": [
    {
     "output_type": "stream",
     "name": "stdout",
     "text": [
      "70.0 90.0\n"
     ]
    }
   ],
   "source": [
    "# 2. Prompt the user to enter minimum and maximum temperature criteria \n",
    "min_temp = float(input(\"What is the minimum temperature you would like for your trip? \"))\n",
    "max_temp = float(input(\"What is the maximum temperature you would like for your trip? \"))\n",
    "print(min_temp,max_temp)"
   ]
  },
  {
   "cell_type": "code",
   "execution_count": 4,
   "metadata": {},
   "outputs": [
    {
     "output_type": "execute_result",
     "data": {
      "text/plain": [
       "    Unnamed: 0          City      Lat       Lng  Max Temp  Humidity  \\\n",
       "4            4       Katubao   5.8892  124.8294     86.00        58   \n",
       "6            6        Avarua -21.2078 -159.7750     78.80        89   \n",
       "10          10   Port Alfred -33.5906   26.8910     73.99        79   \n",
       "14          14          Auki  -8.7676  160.7034     83.32        75   \n",
       "15          15        Faanui -16.4833 -151.7500     82.45        70   \n",
       "18          18      Hermanus -34.4187   19.2345     70.00        79   \n",
       "19          19  Saint-Pierre -21.3393   55.4781     87.80        62   \n",
       "20          20    Port Blair  11.6667   92.7500     83.57        65   \n",
       "21          21      Victoria  22.2855  114.1577     73.40        40   \n",
       "23          23      Meulaboh   4.1363   96.1285     85.12        62   \n",
       "\n",
       "    Cloudiness  Wind Speed Country Current Description  \n",
       "4           75       10.36      PH       broken clouds  \n",
       "6           75        2.30      CK       broken clouds  \n",
       "10          42        2.98      ZA    scattered clouds  \n",
       "14          95       15.52      SB          light rain  \n",
       "15          98       10.94      PF     overcast clouds  \n",
       "18           2        1.01      ZA           clear sky  \n",
       "19           0       18.41      RE           clear sky  \n",
       "20           0       11.77      IN           clear sky  \n",
       "21           0        9.22      HK           clear sky  \n",
       "23          68        5.41      ID       broken clouds  "
      ],
      "text/html": "<div>\n<style scoped>\n    .dataframe tbody tr th:only-of-type {\n        vertical-align: middle;\n    }\n\n    .dataframe tbody tr th {\n        vertical-align: top;\n    }\n\n    .dataframe thead th {\n        text-align: right;\n    }\n</style>\n<table border=\"1\" class=\"dataframe\">\n  <thead>\n    <tr style=\"text-align: right;\">\n      <th></th>\n      <th>Unnamed: 0</th>\n      <th>City</th>\n      <th>Lat</th>\n      <th>Lng</th>\n      <th>Max Temp</th>\n      <th>Humidity</th>\n      <th>Cloudiness</th>\n      <th>Wind Speed</th>\n      <th>Country</th>\n      <th>Current Description</th>\n    </tr>\n  </thead>\n  <tbody>\n    <tr>\n      <th>4</th>\n      <td>4</td>\n      <td>Katubao</td>\n      <td>5.8892</td>\n      <td>124.8294</td>\n      <td>86.00</td>\n      <td>58</td>\n      <td>75</td>\n      <td>10.36</td>\n      <td>PH</td>\n      <td>broken clouds</td>\n    </tr>\n    <tr>\n      <th>6</th>\n      <td>6</td>\n      <td>Avarua</td>\n      <td>-21.2078</td>\n      <td>-159.7750</td>\n      <td>78.80</td>\n      <td>89</td>\n      <td>75</td>\n      <td>2.30</td>\n      <td>CK</td>\n      <td>broken clouds</td>\n    </tr>\n    <tr>\n      <th>10</th>\n      <td>10</td>\n      <td>Port Alfred</td>\n      <td>-33.5906</td>\n      <td>26.8910</td>\n      <td>73.99</td>\n      <td>79</td>\n      <td>42</td>\n      <td>2.98</td>\n      <td>ZA</td>\n      <td>scattered clouds</td>\n    </tr>\n    <tr>\n      <th>14</th>\n      <td>14</td>\n      <td>Auki</td>\n      <td>-8.7676</td>\n      <td>160.7034</td>\n      <td>83.32</td>\n      <td>75</td>\n      <td>95</td>\n      <td>15.52</td>\n      <td>SB</td>\n      <td>light rain</td>\n    </tr>\n    <tr>\n      <th>15</th>\n      <td>15</td>\n      <td>Faanui</td>\n      <td>-16.4833</td>\n      <td>-151.7500</td>\n      <td>82.45</td>\n      <td>70</td>\n      <td>98</td>\n      <td>10.94</td>\n      <td>PF</td>\n      <td>overcast clouds</td>\n    </tr>\n    <tr>\n      <th>18</th>\n      <td>18</td>\n      <td>Hermanus</td>\n      <td>-34.4187</td>\n      <td>19.2345</td>\n      <td>70.00</td>\n      <td>79</td>\n      <td>2</td>\n      <td>1.01</td>\n      <td>ZA</td>\n      <td>clear sky</td>\n    </tr>\n    <tr>\n      <th>19</th>\n      <td>19</td>\n      <td>Saint-Pierre</td>\n      <td>-21.3393</td>\n      <td>55.4781</td>\n      <td>87.80</td>\n      <td>62</td>\n      <td>0</td>\n      <td>18.41</td>\n      <td>RE</td>\n      <td>clear sky</td>\n    </tr>\n    <tr>\n      <th>20</th>\n      <td>20</td>\n      <td>Port Blair</td>\n      <td>11.6667</td>\n      <td>92.7500</td>\n      <td>83.57</td>\n      <td>65</td>\n      <td>0</td>\n      <td>11.77</td>\n      <td>IN</td>\n      <td>clear sky</td>\n    </tr>\n    <tr>\n      <th>21</th>\n      <td>21</td>\n      <td>Victoria</td>\n      <td>22.2855</td>\n      <td>114.1577</td>\n      <td>73.40</td>\n      <td>40</td>\n      <td>0</td>\n      <td>9.22</td>\n      <td>HK</td>\n      <td>clear sky</td>\n    </tr>\n    <tr>\n      <th>23</th>\n      <td>23</td>\n      <td>Meulaboh</td>\n      <td>4.1363</td>\n      <td>96.1285</td>\n      <td>85.12</td>\n      <td>62</td>\n      <td>68</td>\n      <td>5.41</td>\n      <td>ID</td>\n      <td>broken clouds</td>\n    </tr>\n  </tbody>\n</table>\n</div>"
     },
     "metadata": {},
     "execution_count": 4
    }
   ],
   "source": [
    "# 3. Filter the city_data_df DataFrame using the input statements to create a new DataFrame using the loc method.\n",
    "\n",
    "preferred_cities_df = city_data_df.loc[(city_data_df[\"Max Temp\"] <= max_temp) & \\\n",
    "                                       (city_data_df[\"Max Temp\"] >= min_temp)]\n",
    "preferred_cities_df.head(10)"
   ]
  },
  {
   "cell_type": "code",
   "execution_count": 5,
   "metadata": {},
   "outputs": [
    {
     "output_type": "execute_result",
     "data": {
      "text/plain": [
       "248"
      ]
     },
     "metadata": {},
     "execution_count": 5
    }
   ],
   "source": [
    "len(preferred_cities_df)"
   ]
  },
  {
   "cell_type": "code",
   "execution_count": 6,
   "metadata": {},
   "outputs": [
    {
     "output_type": "execute_result",
     "data": {
      "text/plain": [
       "Unnamed: 0             0\n",
       "City                   0\n",
       "Lat                    0\n",
       "Lng                    0\n",
       "Max Temp               0\n",
       "Humidity               0\n",
       "Cloudiness             0\n",
       "Wind Speed             0\n",
       "Country                4\n",
       "Current Description    0\n",
       "dtype: int64"
      ]
     },
     "metadata": {},
     "execution_count": 6
    }
   ],
   "source": [
    "# 4a. Determine if there are any empty rows.\n",
    "preferred_cities_df.isnull().sum()"
   ]
  },
  {
   "cell_type": "code",
   "execution_count": 7,
   "metadata": {},
   "outputs": [],
   "source": [
    "# 4b. Drop any empty rows and create a new DataFrame that doesn’t have empty rows.\n",
    "clean_df=preferred_cities_df.dropna()"
   ]
  },
  {
   "cell_type": "code",
   "execution_count": 8,
   "metadata": {},
   "outputs": [
    {
     "output_type": "execute_result",
     "data": {
      "text/plain": [
       "244"
      ]
     },
     "metadata": {},
     "execution_count": 8
    }
   ],
   "source": [
    "# NA is dropped\n",
    "len(clean_df)"
   ]
  },
  {
   "cell_type": "code",
   "execution_count": 9,
   "metadata": {},
   "outputs": [
    {
     "output_type": "execute_result",
     "data": {
      "text/plain": [
       "            City Country  Max Temp Current Description      Lat       Lng  \\\n",
       "4        Katubao      PH     86.00       broken clouds   5.8892  124.8294   \n",
       "6         Avarua      CK     78.80       broken clouds -21.2078 -159.7750   \n",
       "10   Port Alfred      ZA     73.99    scattered clouds -33.5906   26.8910   \n",
       "14          Auki      SB     83.32          light rain  -8.7676  160.7034   \n",
       "15        Faanui      PF     82.45     overcast clouds -16.4833 -151.7500   \n",
       "18      Hermanus      ZA     70.00           clear sky -34.4187   19.2345   \n",
       "19  Saint-Pierre      RE     87.80           clear sky -21.3393   55.4781   \n",
       "20    Port Blair      IN     83.57           clear sky  11.6667   92.7500   \n",
       "21      Victoria      HK     73.40           clear sky  22.2855  114.1577   \n",
       "23      Meulaboh      ID     85.12       broken clouds   4.1363   96.1285   \n",
       "\n",
       "   Hotel Name  \n",
       "4              \n",
       "6              \n",
       "10             \n",
       "14             \n",
       "15             \n",
       "18             \n",
       "19             \n",
       "20             \n",
       "21             \n",
       "23             "
      ],
      "text/html": "<div>\n<style scoped>\n    .dataframe tbody tr th:only-of-type {\n        vertical-align: middle;\n    }\n\n    .dataframe tbody tr th {\n        vertical-align: top;\n    }\n\n    .dataframe thead th {\n        text-align: right;\n    }\n</style>\n<table border=\"1\" class=\"dataframe\">\n  <thead>\n    <tr style=\"text-align: right;\">\n      <th></th>\n      <th>City</th>\n      <th>Country</th>\n      <th>Max Temp</th>\n      <th>Current Description</th>\n      <th>Lat</th>\n      <th>Lng</th>\n      <th>Hotel Name</th>\n    </tr>\n  </thead>\n  <tbody>\n    <tr>\n      <th>4</th>\n      <td>Katubao</td>\n      <td>PH</td>\n      <td>86.00</td>\n      <td>broken clouds</td>\n      <td>5.8892</td>\n      <td>124.8294</td>\n      <td></td>\n    </tr>\n    <tr>\n      <th>6</th>\n      <td>Avarua</td>\n      <td>CK</td>\n      <td>78.80</td>\n      <td>broken clouds</td>\n      <td>-21.2078</td>\n      <td>-159.7750</td>\n      <td></td>\n    </tr>\n    <tr>\n      <th>10</th>\n      <td>Port Alfred</td>\n      <td>ZA</td>\n      <td>73.99</td>\n      <td>scattered clouds</td>\n      <td>-33.5906</td>\n      <td>26.8910</td>\n      <td></td>\n    </tr>\n    <tr>\n      <th>14</th>\n      <td>Auki</td>\n      <td>SB</td>\n      <td>83.32</td>\n      <td>light rain</td>\n      <td>-8.7676</td>\n      <td>160.7034</td>\n      <td></td>\n    </tr>\n    <tr>\n      <th>15</th>\n      <td>Faanui</td>\n      <td>PF</td>\n      <td>82.45</td>\n      <td>overcast clouds</td>\n      <td>-16.4833</td>\n      <td>-151.7500</td>\n      <td></td>\n    </tr>\n    <tr>\n      <th>18</th>\n      <td>Hermanus</td>\n      <td>ZA</td>\n      <td>70.00</td>\n      <td>clear sky</td>\n      <td>-34.4187</td>\n      <td>19.2345</td>\n      <td></td>\n    </tr>\n    <tr>\n      <th>19</th>\n      <td>Saint-Pierre</td>\n      <td>RE</td>\n      <td>87.80</td>\n      <td>clear sky</td>\n      <td>-21.3393</td>\n      <td>55.4781</td>\n      <td></td>\n    </tr>\n    <tr>\n      <th>20</th>\n      <td>Port Blair</td>\n      <td>IN</td>\n      <td>83.57</td>\n      <td>clear sky</td>\n      <td>11.6667</td>\n      <td>92.7500</td>\n      <td></td>\n    </tr>\n    <tr>\n      <th>21</th>\n      <td>Victoria</td>\n      <td>HK</td>\n      <td>73.40</td>\n      <td>clear sky</td>\n      <td>22.2855</td>\n      <td>114.1577</td>\n      <td></td>\n    </tr>\n    <tr>\n      <th>23</th>\n      <td>Meulaboh</td>\n      <td>ID</td>\n      <td>85.12</td>\n      <td>broken clouds</td>\n      <td>4.1363</td>\n      <td>96.1285</td>\n      <td></td>\n    </tr>\n  </tbody>\n</table>\n</div>"
     },
     "metadata": {},
     "execution_count": 9
    }
   ],
   "source": [
    "# 5a. Create DataFrame called hotel_df to store hotel names along with city, country, max temp, and coordinates.\n",
    "hotel_df = clean_df[[\"City\", \"Country\", \"Max Temp\", \"Current Description\", \"Lat\", \"Lng\"]].copy()\n",
    "\n",
    "# 5b. Create a new column \"Hotel Name\"\n",
    "hotel_df[\"Hotel Name\"] = \"\"\n",
    "hotel_df.head(10)"
   ]
  },
  {
   "cell_type": "code",
   "execution_count": 10,
   "metadata": {},
   "outputs": [
    {
     "output_type": "stream",
     "name": "stdout",
     "text": [
      "Hotel not found... skipping.\n",
      "Hotel not found... skipping.\n",
      "Hotel not found... skipping.\n",
      "Hotel not found... skipping.\n",
      "Hotel not found... skipping.\n",
      "Hotel not found... skipping.\n",
      "Hotel not found... skipping.\n",
      "Hotel not found... skipping.\n",
      "Hotel not found... skipping.\n",
      "Hotel not found... skipping.\n",
      "Hotel not found... skipping.\n",
      "Hotel not found... skipping.\n",
      "Hotel not found... skipping.\n",
      "Hotel not found... skipping.\n",
      "Hotel not found... skipping.\n",
      "Hotel not found... skipping.\n",
      "Hotel not found... skipping.\n",
      "Hotel not found... skipping.\n",
      "Hotel not found... skipping.\n",
      "Hotel not found... skipping.\n"
     ]
    },
    {
     "output_type": "execute_result",
     "data": {
      "text/plain": [
       "           City Country  Max Temp Current Description      Lat       Lng  \\\n",
       "4       Katubao      PH     86.00       broken clouds   5.8892  124.8294   \n",
       "6        Avarua      CK     78.80       broken clouds -21.2078 -159.7750   \n",
       "10  Port Alfred      ZA     73.99    scattered clouds -33.5906   26.8910   \n",
       "14         Auki      SB     83.32          light rain  -8.7676  160.7034   \n",
       "15       Faanui      PF     82.45     overcast clouds -16.4833 -151.7500   \n",
       "\n",
       "                            Hotel Name  \n",
       "4                          IML Ecopark  \n",
       "6                         Paradise Inn  \n",
       "10                  The Halyards Hotel  \n",
       "14                          Auki Motel  \n",
       "15  Bora-Bora Pearl Beach Resort & Spa  "
      ],
      "text/html": "<div>\n<style scoped>\n    .dataframe tbody tr th:only-of-type {\n        vertical-align: middle;\n    }\n\n    .dataframe tbody tr th {\n        vertical-align: top;\n    }\n\n    .dataframe thead th {\n        text-align: right;\n    }\n</style>\n<table border=\"1\" class=\"dataframe\">\n  <thead>\n    <tr style=\"text-align: right;\">\n      <th></th>\n      <th>City</th>\n      <th>Country</th>\n      <th>Max Temp</th>\n      <th>Current Description</th>\n      <th>Lat</th>\n      <th>Lng</th>\n      <th>Hotel Name</th>\n    </tr>\n  </thead>\n  <tbody>\n    <tr>\n      <th>4</th>\n      <td>Katubao</td>\n      <td>PH</td>\n      <td>86.00</td>\n      <td>broken clouds</td>\n      <td>5.8892</td>\n      <td>124.8294</td>\n      <td>IML Ecopark</td>\n    </tr>\n    <tr>\n      <th>6</th>\n      <td>Avarua</td>\n      <td>CK</td>\n      <td>78.80</td>\n      <td>broken clouds</td>\n      <td>-21.2078</td>\n      <td>-159.7750</td>\n      <td>Paradise Inn</td>\n    </tr>\n    <tr>\n      <th>10</th>\n      <td>Port Alfred</td>\n      <td>ZA</td>\n      <td>73.99</td>\n      <td>scattered clouds</td>\n      <td>-33.5906</td>\n      <td>26.8910</td>\n      <td>The Halyards Hotel</td>\n    </tr>\n    <tr>\n      <th>14</th>\n      <td>Auki</td>\n      <td>SB</td>\n      <td>83.32</td>\n      <td>light rain</td>\n      <td>-8.7676</td>\n      <td>160.7034</td>\n      <td>Auki Motel</td>\n    </tr>\n    <tr>\n      <th>15</th>\n      <td>Faanui</td>\n      <td>PF</td>\n      <td>82.45</td>\n      <td>overcast clouds</td>\n      <td>-16.4833</td>\n      <td>-151.7500</td>\n      <td>Bora-Bora Pearl Beach Resort &amp; Spa</td>\n    </tr>\n  </tbody>\n</table>\n</div>"
     },
     "metadata": {},
     "execution_count": 10
    }
   ],
   "source": [
    "# 6a. Set parameters to search for hotels with 5000 meters.\n",
    "params = {\n",
    "    \"radius\": 5000,\n",
    "    \"type\": \"lodging\",\n",
    "    \"key\": g_key\n",
    "}\n",
    "\n",
    "# 6b. Iterate through the hotel DataFrame.\n",
    "for index, row in hotel_df.iterrows():\n",
    "    # 6c. Get latitude and longitude from DataFrame\n",
    "    lat = row[\"Lat\"]\n",
    "    lng = row[\"Lng\"]\n",
    "\n",
    "    # Add the latitude and longitude to location key for the params dictionary.\n",
    "    params[\"location\"] = f\"{lat},{lng}\"\n",
    "    # 6d. Set up the base URL for the Google Directions API to get JSON data.\n",
    "    base_url = \"https://maps.googleapis.com/maps/api/place/nearbysearch/json\"\n",
    "\n",
    "    # 6e. Make request and retrieve the JSON data from the search. \n",
    "    hotels = requests.get(base_url, params=params).json()\n",
    "    \n",
    "    # 6f. Get the first hotel from the results and store the name, if a hotel isn't found skip the city.\n",
    "    try:\n",
    "        hotel_df.loc[index, \"Hotel Name\"] = hotels[\"results\"][0][\"name\"]\n",
    "    except (IndexError):\n",
    "        print(\"Hotel not found... skipping.\")\n",
    "hotel_df.head()    "
   ]
  },
  {
   "cell_type": "code",
   "execution_count": 11,
   "metadata": {},
   "outputs": [
    {
     "output_type": "execute_result",
     "data": {
      "text/plain": [
       "City                   0\n",
       "Country                0\n",
       "Max Temp               0\n",
       "Current Description    0\n",
       "Lat                    0\n",
       "Lng                    0\n",
       "Hotel Name             0\n",
       "dtype: int64"
      ]
     },
     "metadata": {},
     "execution_count": 11
    }
   ],
   "source": [
    "hotel_df.isnull().sum()"
   ]
  },
  {
   "cell_type": "code",
   "execution_count": 12,
   "metadata": {},
   "outputs": [],
   "source": [
    "# 7. Drop the rows where there is no Hotel Name.\n",
    "clean_hotel_df = hotel_df.dropna()\n"
   ]
  },
  {
   "cell_type": "code",
   "execution_count": 13,
   "metadata": {},
   "outputs": [],
   "source": [
    "# 8a. Create the output File (CSV)\n",
    "output_data_file = \"Vacation_Search/WeatherPy_vacation.csv\"\n",
    "# 8b. Export the City_Data into a csv\n",
    "clean_hotel_df.to_csv(output_data_file, index_label=\"City_ID\")"
   ]
  },
  {
   "cell_type": "code",
   "execution_count": 14,
   "metadata": {},
   "outputs": [],
   "source": [
    "# 9. Using the template add city name, the country code, the weather description and maximum temperature for the city.\n",
    "info_box_template = \"\"\"\n",
    "<dl>\n",
    "<dt>Hotel Name</dt><dd>{Hotel Name}</dd>\n",
    "<dt>City</dt><dd>{City}</dd>\n",
    "<dt>Country</dt><dd>{Country}</dd>\n",
    "<dt>Max Temp</dt><dd>{Max Temp} °F</dd>\n",
    "</dl>\n",
    "\"\"\"\n",
    "\n",
    "# 10a. Get the data from each row and add it to the formatting template and store the data in a list.\n",
    "hotel_info = [info_box_template.format(**row) for index, row in clean_hotel_df.iterrows()]\n",
    "\n",
    "# 10b. Get the latitude and longitude from each row and store in a new DataFrame.\n",
    "locations = clean_hotel_df[[\"Lat\", \"Lng\"]]"
   ]
  },
  {
   "cell_type": "code",
   "execution_count": 15,
   "metadata": {},
   "outputs": [
    {
     "output_type": "display_data",
     "data": {
      "text/plain": "Figure(layout=FigureLayout(height='420px'))",
      "application/vnd.jupyter.widget-view+json": {
       "version_major": 2,
       "version_minor": 0,
       "model_id": "f6829cb43bf44f29ac4d79e2bf053ea5"
      }
     },
     "metadata": {}
    }
   ],
   "source": [
    "fig = gmaps.figure(center=(30.0, 31.0), zoom_level=1.5)\n",
    "# 11a. Add a marker layer for each city to the map. \n",
    "marker_layer = gmaps.marker_layer(locations, info_box_content=hotel_info)\n",
    "fig.add_layer(marker_layer)\n",
    "# 11b. Display the figure\n",
    "fig"
   ]
  }
 ],
 "metadata": {
  "kernelspec": {
   "name": "python3",
   "display_name": "Python 3.8.3 64-bit (conda)",
   "metadata": {
    "interpreter": {
     "hash": "b3ba2566441a7c06988d0923437866b63cedc61552a5af99d1f4fb67d367b25f"
    }
   }
  },
  "language_info": {
   "codemirror_mode": {
    "name": "ipython",
    "version": 3
   },
   "file_extension": ".py",
   "mimetype": "text/x-python",
   "name": "python",
   "nbconvert_exporter": "python",
   "pygments_lexer": "ipython3",
   "version": "3.8.3-final"
  },
  "latex_envs": {
   "LaTeX_envs_menu_present": true,
   "autoclose": false,
   "autocomplete": true,
   "bibliofile": "biblio.bib",
   "cite_by": "apalike",
   "current_citInitial": 1,
   "eqLabelWithNumbers": true,
   "eqNumInitial": 1,
   "hotkeys": {
    "equation": "Ctrl-E",
    "itemize": "Ctrl-I"
   },
   "labels_anchors": false,
   "latex_user_defs": false,
   "report_style_numbering": false,
   "user_envs_cfg": false
  }
 },
 "nbformat": 4,
 "nbformat_minor": 2
}