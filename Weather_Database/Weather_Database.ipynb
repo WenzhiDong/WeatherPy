{
 "metadata": {
  "language_info": {
   "codemirror_mode": {
    "name": "ipython",
    "version": 3
   },
   "file_extension": ".py",
   "mimetype": "text/x-python",
   "name": "python",
   "nbconvert_exporter": "python",
   "pygments_lexer": "ipython3",
   "version": "3.8.3-final"
  },
  "orig_nbformat": 2,
  "kernelspec": {
   "name": "python3",
   "display_name": "Python 3",
   "language": "python"
  }
 },
 "nbformat": 4,
 "nbformat_minor": 2,
 "cells": [
  {
   "cell_type": "code",
   "execution_count": 2,
   "metadata": {},
   "outputs": [],
   "source": [
    "import pandas as pd\n",
    "import numpy as np\n",
    "import matplotlib.pyplot as plt\n",
    "from citipy import citipy"
   ]
  },
  {
   "cell_type": "code",
   "execution_count": 13,
   "metadata": {},
   "outputs": [],
   "source": [
    "lats = np.random.uniform(low=-90.000, high=90.000, size=2000)\n",
    "lngs = np.random.uniform(low=-180.000, high=180.000, size=2000)\n",
    "lat_lngs = zip(lats, lngs)\n",
    "lat_lngs\n",
    "# Add the latitudes and longitudes to a list.\n",
    "coordinates = list(lat_lngs)"
   ]
  },
  {
   "cell_type": "code",
   "execution_count": 14,
   "metadata": {},
   "outputs": [
    {
     "output_type": "execute_result",
     "data": {
      "text/plain": [
       "768"
      ]
     },
     "metadata": {},
     "execution_count": 14
    }
   ],
   "source": [
    "# Create a list for holding the cities.\n",
    "cities = []\n",
    "# Identify the nearest city for each latitude and longitude combination.\n",
    "for coordinate in coordinates:\n",
    "    city = citipy.nearest_city(coordinate[0], coordinate[1]).city_name\n",
    "\n",
    "    # If the city is unique, then we will add it to the cities list.\n",
    "    if city not in cities:\n",
    "        cities.append(city)\n",
    "# Print the city count to confirm sufficient count.\n",
    "len(cities)"
   ]
  },
  {
   "cell_type": "code",
   "execution_count": 15,
   "metadata": {},
   "outputs": [],
   "source": [
    "# Import the requests library.\n",
    "import requests\n",
    "\n",
    "# Import the API key.\n",
    "from config import weather_api_key\n"
   ]
  },
  {
   "cell_type": "code",
   "execution_count": 16,
   "metadata": {},
   "outputs": [
    {
     "output_type": "stream",
     "name": "stdout",
     "text": [
      "http://api.openweathermap.org/data/2.5/weather?units=Imperial&APPID=2491693556560d350e9f589930b2bdda\n"
     ]
    }
   ],
   "source": [
    "url = \"http://api.openweathermap.org/data/2.5/weather?units=Imperial&APPID=\" + weather_api_key\n",
    "print(url)"
   ]
  },
  {
   "cell_type": "code",
   "execution_count": 17,
   "metadata": {},
   "outputs": [
    {
     "output_type": "stream",
     "name": "stdout",
     "text": [
      "Beginning Data Retrieval     \n",
      "-----------------------------\n",
      "-----------------------------\n",
      "Data Retrieval Complete      \n",
      "-----------------------------\n"
     ]
    }
   ],
   "source": [
    "# Create an empty list to hold the weather data.\n",
    "city_data = []\n",
    "# Print the beginning of the logging.\n",
    "print(\"Beginning Data Retrieval     \")\n",
    "print(\"-----------------------------\")\n",
    "for city in cities:\n",
    "    city_url = url + \"&q=\" + city.replace(\" \",\"+\")\n",
    "    try:\n",
    "        # Parse the JSON and retrieve data.\n",
    "        city_weather = requests.get(city_url).json()\n",
    "        # Parse out the needed data.\n",
    "        city_lat = city_weather[\"coord\"][\"lat\"]\n",
    "        city_lng = city_weather[\"coord\"][\"lon\"]\n",
    "        city_max_temp = city_weather[\"main\"][\"temp_max\"]\n",
    "        city_humidity = city_weather[\"main\"][\"humidity\"]\n",
    "        city_clouds = city_weather[\"clouds\"][\"all\"]\n",
    "        city_wind = city_weather[\"wind\"][\"speed\"]\n",
    "        city_country = city_weather[\"sys\"][\"country\"]\n",
    "        city_description = city_weather[\"weather\"][0][\"description\"]\n",
    "        # Append the city information into city_data list.\n",
    "        city_data.append({\"City\": city.title(),\n",
    "                          \"Lat\": city_lat,\n",
    "                          \"Lng\": city_lng,\n",
    "                          \"Max Temp\": city_max_temp,\n",
    "                          \"Humidity\": city_humidity,\n",
    "                          \"Cloudiness\": city_clouds,\n",
    "                          \"Wind Speed\": city_wind,\n",
    "                          \"Country\": city_country,\n",
    "                          \"Current Description\":city_description\n",
    "                           })\n",
    "\n",
    "# If an error is experienced, skip the city.\n",
    "    except:\n",
    "        pass\n",
    "\n",
    "# Indicate that Data Loading is complete.\n",
    "print(\"-----------------------------\")\n",
    "print(\"Data Retrieval Complete      \")\n",
    "print(\"-----------------------------\")"
   ]
  },
  {
   "cell_type": "code",
   "execution_count": 18,
   "metadata": {},
   "outputs": [
    {
     "output_type": "execute_result",
     "data": {
      "text/plain": [
       "703"
      ]
     },
     "metadata": {},
     "execution_count": 18
    }
   ],
   "source": [
    "len(city_data)"
   ]
  },
  {
   "cell_type": "code",
   "execution_count": 21,
   "metadata": {},
   "outputs": [
    {
     "output_type": "execute_result",
     "data": {
      "text/plain": [
       "           City      Lat       Lng  Max Temp  Humidity  Cloudiness  \\\n",
       "0   Sargatskoye  55.6101   73.4972     11.08        95          99   \n",
       "1      Oussouye  12.4850  -16.5469     68.43        22          52   \n",
       "2  Punta Arenas -53.1500  -70.9167     48.20        71           0   \n",
       "3  Saint George  37.1041 -113.5841     39.20        75           1   \n",
       "4       Katubao   5.8892  124.8294     86.00        58          75   \n",
       "\n",
       "   Wind Speed Country Current Description  \n",
       "0       13.49      RU     overcast clouds  \n",
       "1        7.43      SN       broken clouds  \n",
       "2       20.71      CL           clear sky  \n",
       "3        3.06      US           clear sky  \n",
       "4       10.36      PH       broken clouds  "
      ],
      "text/html": "<div>\n<style scoped>\n    .dataframe tbody tr th:only-of-type {\n        vertical-align: middle;\n    }\n\n    .dataframe tbody tr th {\n        vertical-align: top;\n    }\n\n    .dataframe thead th {\n        text-align: right;\n    }\n</style>\n<table border=\"1\" class=\"dataframe\">\n  <thead>\n    <tr style=\"text-align: right;\">\n      <th></th>\n      <th>City</th>\n      <th>Lat</th>\n      <th>Lng</th>\n      <th>Max Temp</th>\n      <th>Humidity</th>\n      <th>Cloudiness</th>\n      <th>Wind Speed</th>\n      <th>Country</th>\n      <th>Current Description</th>\n    </tr>\n  </thead>\n  <tbody>\n    <tr>\n      <th>0</th>\n      <td>Sargatskoye</td>\n      <td>55.6101</td>\n      <td>73.4972</td>\n      <td>11.08</td>\n      <td>95</td>\n      <td>99</td>\n      <td>13.49</td>\n      <td>RU</td>\n      <td>overcast clouds</td>\n    </tr>\n    <tr>\n      <th>1</th>\n      <td>Oussouye</td>\n      <td>12.4850</td>\n      <td>-16.5469</td>\n      <td>68.43</td>\n      <td>22</td>\n      <td>52</td>\n      <td>7.43</td>\n      <td>SN</td>\n      <td>broken clouds</td>\n    </tr>\n    <tr>\n      <th>2</th>\n      <td>Punta Arenas</td>\n      <td>-53.1500</td>\n      <td>-70.9167</td>\n      <td>48.20</td>\n      <td>71</td>\n      <td>0</td>\n      <td>20.71</td>\n      <td>CL</td>\n      <td>clear sky</td>\n    </tr>\n    <tr>\n      <th>3</th>\n      <td>Saint George</td>\n      <td>37.1041</td>\n      <td>-113.5841</td>\n      <td>39.20</td>\n      <td>75</td>\n      <td>1</td>\n      <td>3.06</td>\n      <td>US</td>\n      <td>clear sky</td>\n    </tr>\n    <tr>\n      <th>4</th>\n      <td>Katubao</td>\n      <td>5.8892</td>\n      <td>124.8294</td>\n      <td>86.00</td>\n      <td>58</td>\n      <td>75</td>\n      <td>10.36</td>\n      <td>PH</td>\n      <td>broken clouds</td>\n    </tr>\n  </tbody>\n</table>\n</div>"
     },
     "metadata": {},
     "execution_count": 21
    }
   ],
   "source": [
    "city_data_df = pd.DataFrame(city_data)\n",
    "city_data_df.head()\n"
   ]
  },
  {
   "cell_type": "code",
   "execution_count": 22,
   "metadata": {},
   "outputs": [],
   "source": [
    "city_data_df.to_csv(\"WeatherPy_Database.csv\")"
   ]
  },
  {
   "cell_type": "code",
   "execution_count": null,
   "metadata": {},
   "outputs": [],
   "source": []
  }
 ]
}